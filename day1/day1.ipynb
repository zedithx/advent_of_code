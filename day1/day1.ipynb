{
 "cells": [
  {
   "cell_type": "code",
   "execution_count": 170,
   "outputs": [],
   "source": [
    "import pandas as pd\n",
    "df = pd.read_csv(\"input.csv\", header=None)"
   ],
   "metadata": {
    "collapsed": false,
    "pycharm": {
     "name": "#%%\n"
    }
   }
  },
  {
   "cell_type": "code",
   "execution_count": 171,
   "outputs": [],
   "source": [
    "def get_first_last(line):\n",
    "    num_list = [num for num in line if num.isdigit()]\n",
    "    if len(num_list) > 1:\n",
    "        return int(num_list[0] + num_list[-1])\n",
    "    else:\n",
    "        return int(num_list[0] + num_list[0])"
   ],
   "metadata": {
    "collapsed": false,
    "pycharm": {
     "name": "#%%\n"
    }
   }
  },
  {
   "cell_type": "markdown",
   "source": [],
   "metadata": {
    "collapsed": false,
    "pycharm": {
     "name": "#%% md\n"
    }
   }
  },
  {
   "cell_type": "code",
   "execution_count": 172,
   "outputs": [
    {
     "data": {
      "text/plain": "54644"
     },
     "execution_count": 172,
     "metadata": {},
     "output_type": "execute_result"
    }
   ],
   "source": [
    "df[0].apply(get_first_last).sum()"
   ],
   "metadata": {
    "collapsed": false,
    "pycharm": {
     "name": "#%%\n"
    }
   }
  },
  {
   "cell_type": "code",
   "execution_count": 175,
   "outputs": [],
   "source": [
    "import re\n",
    "\n",
    "\n",
    "def get_first_last_modified(line):\n",
    "    #convert string to numbers first\n",
    "    mapping_dict = {'one': '1', 'two': '2', 'three': '3', 'four': '4', 'five': '5', 'six': '6', 'seven': '7', 'eight':'8', 'nine':'9'}\n",
    "    word_dict = {}\n",
    "    for word, number in mapping_dict.items():\n",
    "        if word in line:\n",
    "            for m in re.finditer(word, line):\n",
    "                word_index = m.start()\n",
    "                word_dict[word_index] = word\n",
    "        if number in line:\n",
    "            for m in re.finditer(number, line):\n",
    "                number_index = m.start()\n",
    "                word_dict[number_index] = number\n",
    "    if len(word_dict) > 1:\n",
    "        min_index = min(list(word_dict.keys()))\n",
    "        max_index = max(list(word_dict.keys()))\n",
    "        if word_dict[min_index].isdigit():\n",
    "            min_number = word_dict[min_index]\n",
    "        else:\n",
    "            min_number = mapping_dict[word_dict[min_index]]\n",
    "        if word_dict[max_index].isdigit():\n",
    "            max_number = word_dict[max_index]\n",
    "        else:\n",
    "            max_number = mapping_dict[word_dict[max_index]]\n",
    "        res =  int(min_number + max_number)\n",
    "    else:\n",
    "        if list(word_dict.values())[0].isdigit():\n",
    "            res =  int(list(word_dict.values())[0] * 2)\n",
    "        else:\n",
    "            res = int(mapping_dict[list(word_dict.values())[0]] * 2)\n",
    "    return res\n"
   ],
   "metadata": {
    "collapsed": false,
    "pycharm": {
     "name": "#%%\n"
    }
   }
  },
  {
   "cell_type": "markdown",
   "source": [],
   "metadata": {
    "collapsed": false,
    "pycharm": {
     "name": "#%% md\n"
    }
   }
  },
  {
   "cell_type": "markdown",
   "source": [],
   "metadata": {
    "collapsed": false,
    "pycharm": {
     "name": "#%% md\n"
    }
   }
  },
  {
   "cell_type": "code",
   "execution_count": 174,
   "outputs": [
    {
     "data": {
      "text/plain": "53348"
     },
     "execution_count": 174,
     "metadata": {},
     "output_type": "execute_result"
    }
   ],
   "source": [
    "df[0].apply(get_first_last_modified).sum()"
   ],
   "metadata": {
    "collapsed": false,
    "pycharm": {
     "name": "#%%\n"
    }
   }
  }
 ],
 "metadata": {
  "kernelspec": {
   "display_name": "Python 3",
   "language": "python",
   "name": "python3"
  },
  "language_info": {
   "codemirror_mode": {
    "name": "ipython",
    "version": 2
   },
   "file_extension": ".py",
   "mimetype": "text/x-python",
   "name": "python",
   "nbconvert_exporter": "python",
   "pygments_lexer": "ipython2",
   "version": "2.7.6"
  }
 },
 "nbformat": 4,
 "nbformat_minor": 0
}