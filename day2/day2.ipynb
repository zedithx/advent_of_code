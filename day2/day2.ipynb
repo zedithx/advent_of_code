{
 "cells": [
  {
   "cell_type": "code",
   "execution_count": 70,
   "metadata": {
    "collapsed": true,
    "pycharm": {
     "name": "#%%\n"
    }
   },
   "outputs": [],
   "source": [
    "with open('cubes.csv', 'r') as cubes:\n",
    "    cubes = cubes.read()\n",
    "    cubes = cubes.rstrip('\\n')"
   ]
  },
  {
   "cell_type": "markdown",
   "source": [
    "<b><h1>Part 1</h1></b>"
   ],
   "metadata": {
    "collapsed": false,
    "pycharm": {
     "name": "#%% md\n"
    }
   }
  },
  {
   "cell_type": "code",
   "execution_count": 71,
   "outputs": [],
   "source": [
    "CUBE_LIST = {'red': 12, 'green': 13, 'blue': 14}"
   ],
   "metadata": {
    "collapsed": false,
    "pycharm": {
     "name": "#%%\n"
    }
   }
  },
  {
   "cell_type": "code",
   "execution_count": 87,
   "outputs": [],
   "source": [
    "import re\n",
    "\n",
    "def check_valid_round(inp, cube_list):\n",
    "    cube_number = inp.split(',')\n",
    "    for color, number in cube_list.items():\n",
    "        for cube in cube_number:\n",
    "            if color in cube:\n",
    "                if int(re.findall(r'\\d+', cube)[0]) > number:\n",
    "                    return False\n",
    "    return True\n",
    "\n",
    "\n",
    "def get_id_game(game, cube_list):\n",
    "    inp = game.split(': ')\n",
    "    cube_inp = inp[1]\n",
    "    rounds_number = cube_inp.split(';')\n",
    "    for round_number in rounds_number:\n",
    "        if not check_valid_round(round_number, cube_list):\n",
    "            return 0\n",
    "    return int(re.findall(r'\\d+', inp[0])[0])"
   ],
   "metadata": {
    "collapsed": false,
    "pycharm": {
     "name": "#%%\n"
    }
   }
  },
  {
   "cell_type": "code",
   "execution_count": 88,
   "outputs": [
    {
     "data": {
      "text/plain": "5"
     },
     "execution_count": 88,
     "metadata": {},
     "output_type": "execute_result"
    }
   ],
   "source": [
    "string_game = 'Game 5: 6 red, 1 blue, 3 green; 2 blue, 1 red, 2 green'\n",
    "get_id_game(string_game, CUBE_LIST)"
   ],
   "metadata": {
    "collapsed": false,
    "pycharm": {
     "name": "#%%\n"
    }
   }
  },
  {
   "cell_type": "code",
   "execution_count": 77,
   "outputs": [
    {
     "name": "stdout",
     "output_type": "stream",
     "text": [
      "3059\n"
     ]
    }
   ],
   "source": [
    "# return list of the separate games\n",
    "games_list = cubes.split('\\n')\n",
    "sum_id = 0\n",
    "for game in games_list:\n",
    "    id_game = get_id_game(game, CUBE_LIST)\n",
    "    sum_id += id_game\n",
    "print(sum_id)"
   ],
   "metadata": {
    "collapsed": false,
    "pycharm": {
     "name": "#%%\n"
    }
   }
  },
  {
   "cell_type": "markdown",
   "source": [
    "<b><h1> Part 2 </h1></b>"
   ],
   "metadata": {
    "collapsed": false,
    "pycharm": {
     "name": "#%% md\n"
    }
   }
  },
  {
   "cell_type": "markdown",
   "source": [],
   "metadata": {
    "collapsed": false,
    "pycharm": {
     "name": "#%% md\n"
    }
   }
  },
  {
   "cell_type": "code",
   "execution_count": 84,
   "outputs": [],
   "source": [
    "def get_rgb_value(inp):\n",
    "    color_dict = {'red': 0, 'green': 0, 'blue': 0}\n",
    "    cube_number = inp.split(',')\n",
    "    for color in list(color_dict.keys()):\n",
    "        for cube in cube_number:\n",
    "            if color in cube:\n",
    "                cube_value = int(re.findall(r'\\d+', cube)[0])\n",
    "                color_dict[color] = cube_value\n",
    "    return color_dict\n",
    "\n",
    "def get_id_game_modified(game):\n",
    "    inp = game.split(': ')\n",
    "    cube_inp = inp[1]\n",
    "    rounds_number = cube_inp.split(';')\n",
    "    min_blue = 0\n",
    "    min_green = 0\n",
    "    min_red = 0\n",
    "    for round_number in rounds_number:\n",
    "        # get power of minimum possible combi of this game\n",
    "        color_dict = get_rgb_value(round_number)\n",
    "        if color_dict['blue'] > min_blue:\n",
    "            min_blue = color_dict['blue']\n",
    "        if color_dict['green'] > min_green:\n",
    "            min_green = color_dict['green']\n",
    "        if color_dict['red'] > min_red:\n",
    "            min_red = color_dict['red']\n",
    "    return min_blue * min_green * min_red"
   ],
   "metadata": {
    "collapsed": false,
    "pycharm": {
     "name": "#%%\n"
    }
   }
  },
  {
   "cell_type": "code",
   "execution_count": null,
   "outputs": [],
   "source": [],
   "metadata": {
    "collapsed": false,
    "pycharm": {
     "name": "#%%\n"
    }
   }
  },
  {
   "cell_type": "code",
   "execution_count": 85,
   "outputs": [
    {
     "name": "stdout",
     "output_type": "stream",
     "text": [
      "36\n"
     ]
    }
   ],
   "source": [
    "string_game = 'Game 5: 6 red, 1 blue, 3 green; 2 blue, 1 red, 2 green'\n",
    "print(get_id_game_modified(string_game))"
   ],
   "metadata": {
    "collapsed": false,
    "pycharm": {
     "name": "#%%\n"
    }
   }
  },
  {
   "cell_type": "code",
   "execution_count": 86,
   "outputs": [
    {
     "name": "stdout",
     "output_type": "stream",
     "text": [
      "65371\n"
     ]
    }
   ],
   "source": [
    "# return list of the separate games\n",
    "sum_power = 0\n",
    "for game in games_list:\n",
    "    power = get_id_game_modified(game)\n",
    "    sum_power += power\n",
    "print(sum_power)"
   ],
   "metadata": {
    "collapsed": false,
    "pycharm": {
     "name": "#%%\n"
    }
   }
  },
  {
   "cell_type": "code",
   "execution_count": null,
   "outputs": [],
   "source": [],
   "metadata": {
    "collapsed": false,
    "pycharm": {
     "name": "#%%\n"
    }
   }
  }
 ],
 "metadata": {
  "kernelspec": {
   "display_name": "Python 3",
   "language": "python",
   "name": "python3"
  },
  "language_info": {
   "codemirror_mode": {
    "name": "ipython",
    "version": 2
   },
   "file_extension": ".py",
   "mimetype": "text/x-python",
   "name": "python",
   "nbconvert_exporter": "python",
   "pygments_lexer": "ipython2",
   "version": "2.7.6"
  }
 },
 "nbformat": 4,
 "nbformat_minor": 0
}