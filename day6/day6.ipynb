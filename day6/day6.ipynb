{
 "cells": [
  {
   "cell_type": "code",
   "execution_count": null,
   "outputs": [],
   "source": [
    "with open('boat.csv', 'r') as boat_races:\n",
    "    boat_races = boat_races.read()"
   ],
   "metadata": {
    "collapsed": false,
    "pycharm": {
     "name": "#%%\n"
    }
   }
  },
  {
   "cell_type": "code",
   "execution_count": 13,
   "outputs": [],
   "source": [
    "def clean_data(inp):\n",
    "    lines = inp.split('\\n')[:-1]\n",
    "    times, distances = lines[0].split()[1:], lines[1].split()[1:]\n",
    "    for j in range(len(times)):\n",
    "        times[j], distances[j] = int(times[j]), int(distances[j])\n",
    "    return times, distances"
   ],
   "metadata": {
    "collapsed": false,
    "pycharm": {
     "name": "#%%\n"
    }
   }
  },
  {
   "cell_type": "code",
   "execution_count": 14,
   "outputs": [
    {
     "data": {
      "text/plain": "([55, 82, 64, 90], [246, 1441, 1012, 1111])"
     },
     "execution_count": 14,
     "metadata": {},
     "output_type": "execute_result"
    }
   ],
   "source": [
    "# Return a list of boat times in ms and boat_distances that we need to beat\n",
    "boat_times, boat_distances = clean_data(boat_races)"
   ],
   "metadata": {
    "collapsed": false,
    "pycharm": {
     "name": "#%%\n"
    }
   }
  },
  {
   "cell_type": "code",
   "execution_count": 30,
   "outputs": [],
   "source": [
    "def compute_win_count(time, distance):\n",
    "    # Iterate through the set of boat time and boat distance\n",
    "    total_count = 0\n",
    "    for i in range(len(time)):\n",
    "        win_count = 0\n",
    "        for time_held in range(time[i]):\n",
    "            # We do not have to consider time_held == time as it just returns 0\n",
    "            distance_travelled = time_held * (time[i] - time_held)\n",
    "            if distance_travelled > distance[i]:\n",
    "                win_count += 1\n",
    "        if win_count != 0:\n",
    "            if total_count == 0:\n",
    "                total_count = win_count\n",
    "            else:\n",
    "                total_count *= win_count\n",
    "    return total_count\n"
   ],
   "metadata": {
    "collapsed": false,
    "pycharm": {
     "name": "#%%\n"
    }
   }
  },
  {
   "cell_type": "code",
   "execution_count": 32,
   "outputs": [
    {
     "name": "stdout",
     "output_type": "stream",
     "text": [
      "0 0\n",
      "54 0\n",
      "106 0\n",
      "156 0\n",
      "204 0\n",
      "250 0\n",
      "294 0\n",
      "336 0\n",
      "376 0\n",
      "414 0\n",
      "450 0\n",
      "484 0\n",
      "516 0\n",
      "546 0\n",
      "574 0\n",
      "600 0\n",
      "624 0\n",
      "646 0\n",
      "666 0\n",
      "684 0\n",
      "700 0\n",
      "714 0\n",
      "726 0\n",
      "736 0\n",
      "744 0\n",
      "750 0\n",
      "754 0\n",
      "756 0\n",
      "756 0\n",
      "754 0\n",
      "750 0\n",
      "744 0\n",
      "736 0\n",
      "726 0\n",
      "714 0\n",
      "700 0\n",
      "684 0\n",
      "666 0\n",
      "646 0\n",
      "624 0\n",
      "600 0\n",
      "574 0\n",
      "546 0\n",
      "516 0\n",
      "484 0\n",
      "450 0\n",
      "414 0\n",
      "376 0\n",
      "336 0\n",
      "294 0\n",
      "250 0\n",
      "204 0\n",
      "156 0\n",
      "106 0\n",
      "54 0\n",
      "win_count=46\n",
      "0 1\n",
      "81 1\n",
      "160 1\n",
      "237 1\n",
      "312 1\n",
      "385 1\n",
      "456 1\n",
      "525 1\n",
      "592 1\n",
      "657 1\n",
      "720 1\n",
      "781 1\n",
      "840 1\n",
      "897 1\n",
      "952 1\n",
      "1005 1\n",
      "1056 1\n",
      "1105 1\n",
      "1152 1\n",
      "1197 1\n",
      "1240 1\n",
      "1281 1\n",
      "1320 1\n",
      "1357 1\n",
      "1392 1\n",
      "1425 1\n",
      "1456 1\n",
      "1485 1\n",
      "1512 1\n",
      "1537 1\n",
      "1560 1\n",
      "1581 1\n",
      "1600 1\n",
      "1617 1\n",
      "1632 1\n",
      "1645 1\n",
      "1656 1\n",
      "1665 1\n",
      "1672 1\n",
      "1677 1\n",
      "1680 1\n",
      "1681 1\n",
      "1680 1\n",
      "1677 1\n",
      "1672 1\n",
      "1665 1\n",
      "1656 1\n",
      "1645 1\n",
      "1632 1\n",
      "1617 1\n",
      "1600 1\n",
      "1581 1\n",
      "1560 1\n",
      "1537 1\n",
      "1512 1\n",
      "1485 1\n",
      "1456 1\n",
      "1425 1\n",
      "1392 1\n",
      "1357 1\n",
      "1320 1\n",
      "1281 1\n",
      "1240 1\n",
      "1197 1\n",
      "1152 1\n",
      "1105 1\n",
      "1056 1\n",
      "1005 1\n",
      "952 1\n",
      "897 1\n",
      "840 1\n",
      "781 1\n",
      "720 1\n",
      "657 1\n",
      "592 1\n",
      "525 1\n",
      "456 1\n",
      "385 1\n",
      "312 1\n",
      "237 1\n",
      "160 1\n",
      "81 1\n",
      "win_count=31\n",
      "0 2\n",
      "63 2\n",
      "124 2\n",
      "183 2\n",
      "240 2\n",
      "295 2\n",
      "348 2\n",
      "399 2\n",
      "448 2\n",
      "495 2\n",
      "540 2\n",
      "583 2\n",
      "624 2\n",
      "663 2\n",
      "700 2\n",
      "735 2\n",
      "768 2\n",
      "799 2\n",
      "828 2\n",
      "855 2\n",
      "880 2\n",
      "903 2\n",
      "924 2\n",
      "943 2\n",
      "960 2\n",
      "975 2\n",
      "988 2\n",
      "999 2\n",
      "1008 2\n",
      "1015 2\n",
      "1020 2\n",
      "1023 2\n",
      "1024 2\n",
      "1023 2\n",
      "1020 2\n",
      "1015 2\n",
      "1008 2\n",
      "999 2\n",
      "988 2\n",
      "975 2\n",
      "960 2\n",
      "943 2\n",
      "924 2\n",
      "903 2\n",
      "880 2\n",
      "855 2\n",
      "828 2\n",
      "799 2\n",
      "768 2\n",
      "735 2\n",
      "700 2\n",
      "663 2\n",
      "624 2\n",
      "583 2\n",
      "540 2\n",
      "495 2\n",
      "448 2\n",
      "399 2\n",
      "348 2\n",
      "295 2\n",
      "240 2\n",
      "183 2\n",
      "124 2\n",
      "63 2\n",
      "win_count=7\n",
      "0 3\n",
      "89 3\n",
      "176 3\n",
      "261 3\n",
      "344 3\n",
      "425 3\n",
      "504 3\n",
      "581 3\n",
      "656 3\n",
      "729 3\n",
      "800 3\n",
      "869 3\n",
      "936 3\n",
      "1001 3\n",
      "1064 3\n",
      "1125 3\n",
      "1184 3\n",
      "1241 3\n",
      "1296 3\n",
      "1349 3\n",
      "1400 3\n",
      "1449 3\n",
      "1496 3\n",
      "1541 3\n",
      "1584 3\n",
      "1625 3\n",
      "1664 3\n",
      "1701 3\n",
      "1736 3\n",
      "1769 3\n",
      "1800 3\n",
      "1829 3\n",
      "1856 3\n",
      "1881 3\n",
      "1904 3\n",
      "1925 3\n",
      "1944 3\n",
      "1961 3\n",
      "1976 3\n",
      "1989 3\n",
      "2000 3\n",
      "2009 3\n",
      "2016 3\n",
      "2021 3\n",
      "2024 3\n",
      "2025 3\n",
      "2024 3\n",
      "2021 3\n",
      "2016 3\n",
      "2009 3\n",
      "2000 3\n",
      "1989 3\n",
      "1976 3\n",
      "1961 3\n",
      "1944 3\n",
      "1925 3\n",
      "1904 3\n",
      "1881 3\n",
      "1856 3\n",
      "1829 3\n",
      "1800 3\n",
      "1769 3\n",
      "1736 3\n",
      "1701 3\n",
      "1664 3\n",
      "1625 3\n",
      "1584 3\n",
      "1541 3\n",
      "1496 3\n",
      "1449 3\n",
      "1400 3\n",
      "1349 3\n",
      "1296 3\n",
      "1241 3\n",
      "1184 3\n",
      "1125 3\n",
      "1064 3\n",
      "1001 3\n",
      "936 3\n",
      "869 3\n",
      "800 3\n",
      "729 3\n",
      "656 3\n",
      "581 3\n",
      "504 3\n",
      "425 3\n",
      "344 3\n",
      "261 3\n",
      "176 3\n",
      "89 3\n",
      "win_count=61\n"
     ]
    },
    {
     "data": {
      "text/plain": "608902"
     },
     "execution_count": 32,
     "metadata": {},
     "output_type": "execute_result"
    }
   ],
   "source": [
    "compute_win_count(boat_times, boat_distances)"
   ],
   "metadata": {
    "collapsed": false,
    "pycharm": {
     "name": "#%%\n"
    }
   }
  },
  {
   "cell_type": "markdown",
   "source": [
    "<h1><b>Part 2</b></h1>"
   ],
   "metadata": {
    "collapsed": false,
    "pycharm": {
     "name": "#%% md\n"
    }
   }
  },
  {
   "cell_type": "code",
   "execution_count": 36,
   "outputs": [],
   "source": [
    "#convert int back to string\n",
    "for k in range(len(boat_times)):\n",
    "    boat_times[k], boat_distances[k] = str(boat_times[k]), str(boat_distances[k])"
   ],
   "metadata": {
    "collapsed": false,
    "pycharm": {
     "name": "#%%\n"
    }
   }
  },
  {
   "cell_type": "code",
   "execution_count": 65,
   "outputs": [],
   "source": [
    "boat_time_modified, boat_distance_modified = int(''.join(boat_times)), int(''.join(boat_distances))"
   ],
   "metadata": {
    "collapsed": false,
    "pycharm": {
     "name": "#%%\n"
    }
   }
  },
  {
   "cell_type": "code",
   "execution_count": 66,
   "outputs": [],
   "source": [
    "# I cannot just iterate through the possibilities, I need to use windows, jus the first and last value\n",
    "# Now there is only checking of one round,\n",
    "def quadratic_expression(a, b, c):\n",
    "    return (-b - (b ** 2 - 4 * a * c) ** 0.5) / (2 * a) , (-b + (b ** 2 - 4 * a * c) ** 0.5) / (2 * a)"
   ],
   "metadata": {
    "collapsed": false,
    "pycharm": {
     "name": "#%%\n"
    }
   }
  },
  {
   "cell_type": "code",
   "execution_count": 70,
   "outputs": [],
   "source": [
    "import math\n",
    "def compute_modified_win_count(time, distance):\n",
    "    # time_held*(time-time_held) > distance : return time_held\n",
    "# time(time_held) - time_held**2 - distance > 0\n",
    "    upper_boundary, lower_boundary = quadratic_expression(-1, time, -distance)\n",
    "    # lower_boundary < time_held < upper_boundary\n",
    "    return math.floor(upper_boundary) - math.ceil(lower_boundary) + 1\n"
   ],
   "metadata": {
    "collapsed": false,
    "pycharm": {
     "name": "#%%\n"
    }
   }
  },
  {
   "cell_type": "code",
   "execution_count": 71,
   "outputs": [
    {
     "data": {
      "text/plain": "46173809"
     },
     "execution_count": 71,
     "metadata": {},
     "output_type": "execute_result"
    }
   ],
   "source": [
    "compute_modified_win_count(boat_time_modified, boat_distance_modified)\n"
   ],
   "metadata": {
    "collapsed": false,
    "pycharm": {
     "name": "#%%\n"
    }
   }
  },
  {
   "cell_type": "code",
   "execution_count": null,
   "outputs": [],
   "source": [],
   "metadata": {
    "collapsed": false,
    "pycharm": {
     "name": "#%%\n"
    }
   }
  }
 ],
 "metadata": {
  "kernelspec": {
   "display_name": "Python 3",
   "language": "python",
   "name": "python3"
  },
  "language_info": {
   "codemirror_mode": {
    "name": "ipython",
    "version": 2
   },
   "file_extension": ".py",
   "mimetype": "text/x-python",
   "name": "python",
   "nbconvert_exporter": "python",
   "pygments_lexer": "ipython2",
   "version": "2.7.6"
  }
 },
 "nbformat": 4,
 "nbformat_minor": 0
}